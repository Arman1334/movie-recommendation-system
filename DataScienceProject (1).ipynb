{
  "nbformat": 4,
  "nbformat_minor": 0,
  "metadata": {
    "colab": {
      "provenance": []
    },
    "kernelspec": {
      "name": "python3",
      "display_name": "Python 3"
    },
    "language_info": {
      "name": "python"
    }
  },
  "cells": [
    {
      "cell_type": "code",
      "execution_count": null,
      "metadata": {
        "colab": {
          "base_uri": "https://localhost:8080/"
        },
        "id": "vOaNtQhpkddY",
        "outputId": "670b4760-e3ab-4122-bb34-636e0e5f4b1f"
      },
      "outputs": [
        {
          "output_type": "stream",
          "name": "stdout",
          "text": [
            "Requirement already satisfied: pandas in /usr/local/lib/python3.11/dist-packages (2.2.2)\n",
            "Requirement already satisfied: numpy in /usr/local/lib/python3.11/dist-packages (1.26.4)\n",
            "Requirement already satisfied: matplotlib in /usr/local/lib/python3.11/dist-packages (3.10.0)\n",
            "Requirement already satisfied: seaborn in /usr/local/lib/python3.11/dist-packages (0.13.2)\n",
            "Requirement already satisfied: scikit-learn in /usr/local/lib/python3.11/dist-packages (1.6.1)\n",
            "Requirement already satisfied: python-dateutil>=2.8.2 in /usr/local/lib/python3.11/dist-packages (from pandas) (2.8.2)\n",
            "Requirement already satisfied: pytz>=2020.1 in /usr/local/lib/python3.11/dist-packages (from pandas) (2024.2)\n",
            "Requirement already satisfied: tzdata>=2022.7 in /usr/local/lib/python3.11/dist-packages (from pandas) (2025.1)\n",
            "Requirement already satisfied: contourpy>=1.0.1 in /usr/local/lib/python3.11/dist-packages (from matplotlib) (1.3.1)\n",
            "Requirement already satisfied: cycler>=0.10 in /usr/local/lib/python3.11/dist-packages (from matplotlib) (0.12.1)\n",
            "Requirement already satisfied: fonttools>=4.22.0 in /usr/local/lib/python3.11/dist-packages (from matplotlib) (4.55.7)\n",
            "Requirement already satisfied: kiwisolver>=1.3.1 in /usr/local/lib/python3.11/dist-packages (from matplotlib) (1.4.8)\n",
            "Requirement already satisfied: packaging>=20.0 in /usr/local/lib/python3.11/dist-packages (from matplotlib) (24.2)\n",
            "Requirement already satisfied: pillow>=8 in /usr/local/lib/python3.11/dist-packages (from matplotlib) (11.1.0)\n",
            "Requirement already satisfied: pyparsing>=2.3.1 in /usr/local/lib/python3.11/dist-packages (from matplotlib) (3.2.1)\n",
            "Requirement already satisfied: scipy>=1.6.0 in /usr/local/lib/python3.11/dist-packages (from scikit-learn) (1.13.1)\n",
            "Requirement already satisfied: joblib>=1.2.0 in /usr/local/lib/python3.11/dist-packages (from scikit-learn) (1.4.2)\n",
            "Requirement already satisfied: threadpoolctl>=3.1.0 in /usr/local/lib/python3.11/dist-packages (from scikit-learn) (3.5.0)\n",
            "Requirement already satisfied: six>=1.5 in /usr/local/lib/python3.11/dist-packages (from python-dateutil>=2.8.2->pandas) (1.17.0)\n"
          ]
        }
      ],
      "source": [
        "pip install pandas numpy matplotlib seaborn scikit-learn\n"
      ]
    },
    {
      "cell_type": "code",
      "source": [
        "from google.colab import files\n",
        "\n",
        "# Upload the ratings.dat and movies.dat files\n",
        "uploaded = files.upload()\n"
      ],
      "metadata": {
        "colab": {
          "base_uri": "https://localhost:8080/",
          "height": 107
        },
        "id": "XGem-odlsl3y",
        "outputId": "3e4ab8a2-98a0-45ef-d624-9c7d616a948f"
      },
      "execution_count": null,
      "outputs": [
        {
          "output_type": "display_data",
          "data": {
            "text/plain": [
              "<IPython.core.display.HTML object>"
            ],
            "text/html": [
              "\n",
              "     <input type=\"file\" id=\"files-09d287bf-2a23-452d-b311-5426e62f053b\" name=\"files[]\" multiple disabled\n",
              "        style=\"border:none\" />\n",
              "     <output id=\"result-09d287bf-2a23-452d-b311-5426e62f053b\">\n",
              "      Upload widget is only available when the cell has been executed in the\n",
              "      current browser session. Please rerun this cell to enable.\n",
              "      </output>\n",
              "      <script>// Copyright 2017 Google LLC\n",
              "//\n",
              "// Licensed under the Apache License, Version 2.0 (the \"License\");\n",
              "// you may not use this file except in compliance with the License.\n",
              "// You may obtain a copy of the License at\n",
              "//\n",
              "//      http://www.apache.org/licenses/LICENSE-2.0\n",
              "//\n",
              "// Unless required by applicable law or agreed to in writing, software\n",
              "// distributed under the License is distributed on an \"AS IS\" BASIS,\n",
              "// WITHOUT WARRANTIES OR CONDITIONS OF ANY KIND, either express or implied.\n",
              "// See the License for the specific language governing permissions and\n",
              "// limitations under the License.\n",
              "\n",
              "/**\n",
              " * @fileoverview Helpers for google.colab Python module.\n",
              " */\n",
              "(function(scope) {\n",
              "function span(text, styleAttributes = {}) {\n",
              "  const element = document.createElement('span');\n",
              "  element.textContent = text;\n",
              "  for (const key of Object.keys(styleAttributes)) {\n",
              "    element.style[key] = styleAttributes[key];\n",
              "  }\n",
              "  return element;\n",
              "}\n",
              "\n",
              "// Max number of bytes which will be uploaded at a time.\n",
              "const MAX_PAYLOAD_SIZE = 100 * 1024;\n",
              "\n",
              "function _uploadFiles(inputId, outputId) {\n",
              "  const steps = uploadFilesStep(inputId, outputId);\n",
              "  const outputElement = document.getElementById(outputId);\n",
              "  // Cache steps on the outputElement to make it available for the next call\n",
              "  // to uploadFilesContinue from Python.\n",
              "  outputElement.steps = steps;\n",
              "\n",
              "  return _uploadFilesContinue(outputId);\n",
              "}\n",
              "\n",
              "// This is roughly an async generator (not supported in the browser yet),\n",
              "// where there are multiple asynchronous steps and the Python side is going\n",
              "// to poll for completion of each step.\n",
              "// This uses a Promise to block the python side on completion of each step,\n",
              "// then passes the result of the previous step as the input to the next step.\n",
              "function _uploadFilesContinue(outputId) {\n",
              "  const outputElement = document.getElementById(outputId);\n",
              "  const steps = outputElement.steps;\n",
              "\n",
              "  const next = steps.next(outputElement.lastPromiseValue);\n",
              "  return Promise.resolve(next.value.promise).then((value) => {\n",
              "    // Cache the last promise value to make it available to the next\n",
              "    // step of the generator.\n",
              "    outputElement.lastPromiseValue = value;\n",
              "    return next.value.response;\n",
              "  });\n",
              "}\n",
              "\n",
              "/**\n",
              " * Generator function which is called between each async step of the upload\n",
              " * process.\n",
              " * @param {string} inputId Element ID of the input file picker element.\n",
              " * @param {string} outputId Element ID of the output display.\n",
              " * @return {!Iterable<!Object>} Iterable of next steps.\n",
              " */\n",
              "function* uploadFilesStep(inputId, outputId) {\n",
              "  const inputElement = document.getElementById(inputId);\n",
              "  inputElement.disabled = false;\n",
              "\n",
              "  const outputElement = document.getElementById(outputId);\n",
              "  outputElement.innerHTML = '';\n",
              "\n",
              "  const pickedPromise = new Promise((resolve) => {\n",
              "    inputElement.addEventListener('change', (e) => {\n",
              "      resolve(e.target.files);\n",
              "    });\n",
              "  });\n",
              "\n",
              "  const cancel = document.createElement('button');\n",
              "  inputElement.parentElement.appendChild(cancel);\n",
              "  cancel.textContent = 'Cancel upload';\n",
              "  const cancelPromise = new Promise((resolve) => {\n",
              "    cancel.onclick = () => {\n",
              "      resolve(null);\n",
              "    };\n",
              "  });\n",
              "\n",
              "  // Wait for the user to pick the files.\n",
              "  const files = yield {\n",
              "    promise: Promise.race([pickedPromise, cancelPromise]),\n",
              "    response: {\n",
              "      action: 'starting',\n",
              "    }\n",
              "  };\n",
              "\n",
              "  cancel.remove();\n",
              "\n",
              "  // Disable the input element since further picks are not allowed.\n",
              "  inputElement.disabled = true;\n",
              "\n",
              "  if (!files) {\n",
              "    return {\n",
              "      response: {\n",
              "        action: 'complete',\n",
              "      }\n",
              "    };\n",
              "  }\n",
              "\n",
              "  for (const file of files) {\n",
              "    const li = document.createElement('li');\n",
              "    li.append(span(file.name, {fontWeight: 'bold'}));\n",
              "    li.append(span(\n",
              "        `(${file.type || 'n/a'}) - ${file.size} bytes, ` +\n",
              "        `last modified: ${\n",
              "            file.lastModifiedDate ? file.lastModifiedDate.toLocaleDateString() :\n",
              "                                    'n/a'} - `));\n",
              "    const percent = span('0% done');\n",
              "    li.appendChild(percent);\n",
              "\n",
              "    outputElement.appendChild(li);\n",
              "\n",
              "    const fileDataPromise = new Promise((resolve) => {\n",
              "      const reader = new FileReader();\n",
              "      reader.onload = (e) => {\n",
              "        resolve(e.target.result);\n",
              "      };\n",
              "      reader.readAsArrayBuffer(file);\n",
              "    });\n",
              "    // Wait for the data to be ready.\n",
              "    let fileData = yield {\n",
              "      promise: fileDataPromise,\n",
              "      response: {\n",
              "        action: 'continue',\n",
              "      }\n",
              "    };\n",
              "\n",
              "    // Use a chunked sending to avoid message size limits. See b/62115660.\n",
              "    let position = 0;\n",
              "    do {\n",
              "      const length = Math.min(fileData.byteLength - position, MAX_PAYLOAD_SIZE);\n",
              "      const chunk = new Uint8Array(fileData, position, length);\n",
              "      position += length;\n",
              "\n",
              "      const base64 = btoa(String.fromCharCode.apply(null, chunk));\n",
              "      yield {\n",
              "        response: {\n",
              "          action: 'append',\n",
              "          file: file.name,\n",
              "          data: base64,\n",
              "        },\n",
              "      };\n",
              "\n",
              "      let percentDone = fileData.byteLength === 0 ?\n",
              "          100 :\n",
              "          Math.round((position / fileData.byteLength) * 100);\n",
              "      percent.textContent = `${percentDone}% done`;\n",
              "\n",
              "    } while (position < fileData.byteLength);\n",
              "  }\n",
              "\n",
              "  // All done.\n",
              "  yield {\n",
              "    response: {\n",
              "      action: 'complete',\n",
              "    }\n",
              "  };\n",
              "}\n",
              "\n",
              "scope.google = scope.google || {};\n",
              "scope.google.colab = scope.google.colab || {};\n",
              "scope.google.colab._files = {\n",
              "  _uploadFiles,\n",
              "  _uploadFilesContinue,\n",
              "};\n",
              "})(self);\n",
              "</script> "
            ]
          },
          "metadata": {}
        },
        {
          "output_type": "stream",
          "name": "stdout",
          "text": [
            "Saving ratings.dat to ratings.dat\n",
            "Saving movies.dat to movies.dat\n"
          ]
        }
      ]
    },
    {
      "cell_type": "code",
      "source": [
        "import pandas as pd\n",
        "\n",
        "# Try loading the movies file with 'ISO-8859-1' encoding\n",
        "movies = pd.read_csv(\"movies.dat\", sep=\"::\", engine=\"python\", header=None, names=[\"movieId\", \"title\", \"genres\"], encoding=\"ISO-8859-1\")\n",
        "\n",
        "# Check the data\n",
        "print(movies.head())\n",
        "\n"
      ],
      "metadata": {
        "colab": {
          "base_uri": "https://localhost:8080/"
        },
        "id": "M3qMqwy0s32S",
        "outputId": "7038319a-0a97-4e16-f44c-857bba36251b"
      },
      "execution_count": null,
      "outputs": [
        {
          "output_type": "stream",
          "name": "stdout",
          "text": [
            "   movieId                               title                        genres\n",
            "0        1                    Toy Story (1995)   Animation|Children's|Comedy\n",
            "1        2                      Jumanji (1995)  Adventure|Children's|Fantasy\n",
            "2        3             Grumpier Old Men (1995)                Comedy|Romance\n",
            "3        4            Waiting to Exhale (1995)                  Comedy|Drama\n",
            "4        5  Father of the Bride Part II (1995)                        Comedy\n"
          ]
        }
      ]
    },
    {
      "cell_type": "code",
      "source": [
        "# Load ratings.dat with 'ISO-8859-1' encoding\n",
        "ratings = pd.read_csv(\"ratings.dat\", sep=\"::\", engine=\"python\", header=None, names=[\"userId\", \"movieId\", \"rating\", \"timestamp\"], encoding=\"ISO-8859-1\")\n",
        "\n",
        "# Check the data\n",
        "print(ratings.head())\n"
      ],
      "metadata": {
        "colab": {
          "base_uri": "https://localhost:8080/"
        },
        "id": "vyqdcQcMt5WR",
        "outputId": "caa42824-01dd-4315-d54f-e5db4d78a1b8"
      },
      "execution_count": null,
      "outputs": [
        {
          "output_type": "stream",
          "name": "stdout",
          "text": [
            "   userId  movieId  rating  timestamp\n",
            "0       1     1193       5  978300760\n",
            "1       1      661       3  978302109\n",
            "2       1      914       3  978301968\n",
            "3       1     3408       4  978300275\n",
            "4       1     2355       5  978824291\n"
          ]
        }
      ]
    },
    {
      "cell_type": "code",
      "source": [
        "# Merge the ratings and movies datasets on the 'movieId' column\n",
        "merged_data = pd.merge(ratings, movies, on=\"movieId\")\n",
        "\n",
        "# Check the first few rows of the merged dataset\n",
        "print(merged_data.head())\n"
      ],
      "metadata": {
        "colab": {
          "base_uri": "https://localhost:8080/"
        },
        "id": "pIPr3nT4uHo-",
        "outputId": "8daac095-9bdb-4ad8-eae4-9494145cc282"
      },
      "execution_count": null,
      "outputs": [
        {
          "output_type": "stream",
          "name": "stdout",
          "text": [
            "   userId  movieId  rating  timestamp                                   title  \\\n",
            "0       1     1193       5  978300760  One Flew Over the Cuckoo's Nest (1975)   \n",
            "1       1      661       3  978302109        James and the Giant Peach (1996)   \n",
            "2       1      914       3  978301968                     My Fair Lady (1964)   \n",
            "3       1     3408       4  978300275                  Erin Brockovich (2000)   \n",
            "4       1     2355       5  978824291                    Bug's Life, A (1998)   \n",
            "\n",
            "                         genres  \n",
            "0                         Drama  \n",
            "1  Animation|Children's|Musical  \n",
            "2               Musical|Romance  \n",
            "3                         Drama  \n",
            "4   Animation|Children's|Comedy  \n"
          ]
        }
      ]
    },
    {
      "cell_type": "code",
      "source": [
        "# Check basic info about the merged data\n",
        "print(merged_data.info())\n",
        "\n",
        "# Show summary statistics\n",
        "print(merged_data.describe())\n",
        "\n",
        "# Check number of unique users and movies\n",
        "print(f\"Unique users: {merged_data['userId'].nunique()}\")\n",
        "print(f\"Unique movies: {merged_data['movieId'].nunique()}\")\n",
        "\n",
        "# Show the most popular movies based on the number of ratings\n",
        "movie_counts = merged_data['title'].value_counts()\n",
        "print(movie_counts.head())\n"
      ],
      "metadata": {
        "colab": {
          "base_uri": "https://localhost:8080/"
        },
        "id": "-fbFlsjFuK9_",
        "outputId": "ad6eadad-9cb7-47f1-dd9a-ac14d0c479e3"
      },
      "execution_count": null,
      "outputs": [
        {
          "output_type": "stream",
          "name": "stdout",
          "text": [
            "<class 'pandas.core.frame.DataFrame'>\n",
            "RangeIndex: 1000209 entries, 0 to 1000208\n",
            "Data columns (total 6 columns):\n",
            " #   Column     Non-Null Count    Dtype \n",
            "---  ------     --------------    ----- \n",
            " 0   userId     1000209 non-null  int64 \n",
            " 1   movieId    1000209 non-null  int64 \n",
            " 2   rating     1000209 non-null  int64 \n",
            " 3   timestamp  1000209 non-null  int64 \n",
            " 4   title      1000209 non-null  object\n",
            " 5   genres     1000209 non-null  object\n",
            "dtypes: int64(4), object(2)\n",
            "memory usage: 45.8+ MB\n",
            "None\n",
            "             userId       movieId        rating     timestamp\n",
            "count  1.000209e+06  1.000209e+06  1.000209e+06  1.000209e+06\n",
            "mean   3.024512e+03  1.865540e+03  3.581564e+00  9.722437e+08\n",
            "std    1.728413e+03  1.096041e+03  1.117102e+00  1.215256e+07\n",
            "min    1.000000e+00  1.000000e+00  1.000000e+00  9.567039e+08\n",
            "25%    1.506000e+03  1.030000e+03  3.000000e+00  9.653026e+08\n",
            "50%    3.070000e+03  1.835000e+03  4.000000e+00  9.730180e+08\n",
            "75%    4.476000e+03  2.770000e+03  4.000000e+00  9.752209e+08\n",
            "max    6.040000e+03  3.952000e+03  5.000000e+00  1.046455e+09\n",
            "Unique users: 6040\n",
            "Unique movies: 3706\n",
            "title\n",
            "American Beauty (1999)                                   3428\n",
            "Star Wars: Episode IV - A New Hope (1977)                2991\n",
            "Star Wars: Episode V - The Empire Strikes Back (1980)    2990\n",
            "Star Wars: Episode VI - Return of the Jedi (1983)        2883\n",
            "Jurassic Park (1993)                                     2672\n",
            "Name: count, dtype: int64\n"
          ]
        }
      ]
    },
    {
      "cell_type": "code",
      "source": [
        "!pip install scikit-surprise\n"
      ],
      "metadata": {
        "colab": {
          "base_uri": "https://localhost:8080/"
        },
        "id": "zHhYtvs7w642",
        "outputId": "007c652a-cf18-4a6b-e8a1-522437d04abf"
      },
      "execution_count": null,
      "outputs": [
        {
          "output_type": "stream",
          "name": "stdout",
          "text": [
            "Collecting scikit-surprise\n",
            "  Downloading scikit_surprise-1.1.4.tar.gz (154 kB)\n",
            "\u001b[?25l     \u001b[90m━━━━━━━━━━━━━━━━━━━━━━━━━━━━━━━━━━━━━━━━\u001b[0m \u001b[32m0.0/154.4 kB\u001b[0m \u001b[31m?\u001b[0m eta \u001b[36m-:--:--\u001b[0m\r\u001b[2K     \u001b[90m━━━━━━━━━━━━━━━━━━━━━━━━━━━━━━━━━━━━━━━━\u001b[0m \u001b[32m154.4/154.4 kB\u001b[0m \u001b[31m6.1 MB/s\u001b[0m eta \u001b[36m0:00:00\u001b[0m\n",
            "\u001b[?25h  Installing build dependencies ... \u001b[?25l\u001b[?25hdone\n",
            "  Getting requirements to build wheel ... \u001b[?25l\u001b[?25hdone\n",
            "  Preparing metadata (pyproject.toml) ... \u001b[?25l\u001b[?25hdone\n",
            "Requirement already satisfied: joblib>=1.2.0 in /usr/local/lib/python3.11/dist-packages (from scikit-surprise) (1.4.2)\n",
            "Requirement already satisfied: numpy>=1.19.5 in /usr/local/lib/python3.11/dist-packages (from scikit-surprise) (1.26.4)\n",
            "Requirement already satisfied: scipy>=1.6.0 in /usr/local/lib/python3.11/dist-packages (from scikit-surprise) (1.13.1)\n",
            "Building wheels for collected packages: scikit-surprise\n",
            "  Building wheel for scikit-surprise (pyproject.toml) ... \u001b[?25l\u001b[?25hdone\n",
            "  Created wheel for scikit-surprise: filename=scikit_surprise-1.1.4-cp311-cp311-linux_x86_64.whl size=2505171 sha256=cc0fefeaacdd1e88c0a0423791a46d3d721d47975cef3d3e80ad574d6a327e62\n",
            "  Stored in directory: /root/.cache/pip/wheels/2a/8f/6e/7e2899163e2d85d8266daab4aa1cdabec7a6c56f83c015b5af\n",
            "Successfully built scikit-surprise\n",
            "Installing collected packages: scikit-surprise\n",
            "Successfully installed scikit-surprise-1.1.4\n"
          ]
        }
      ]
    },
    {
      "cell_type": "code",
      "source": [
        "from surprise import Dataset, Reader\n",
        "from surprise import SVD, accuracy\n",
        "from surprise.model_selection import train_test_split\n",
        "\n",
        "# Prepare the data for Surprise\n",
        "reader = Reader(rating_scale=(1, 5))\n",
        "data = Dataset.load_from_df(merged_data[['userId', 'movieId', 'rating']], reader)\n",
        "\n",
        "# Split the data into training and test sets\n",
        "trainset, testset = train_test_split(data, test_size=0.2)\n",
        "\n",
        "# Train a basic SVD (Singular Value Decomposition) model\n",
        "model = SVD()\n",
        "model.fit(trainset)\n",
        "\n",
        "# Predict the ratings on the test set\n",
        "predictions = model.test(testset)\n",
        "\n",
        "# Compute the RMSE (Root Mean Squared Error)\n",
        "rmse = accuracy.rmse(predictions)\n",
        "print(f\"RMSE: {rmse}\")\n"
      ],
      "metadata": {
        "colab": {
          "base_uri": "https://localhost:8080/"
        },
        "id": "GI8x05ViyWbP",
        "outputId": "33c971aa-62b3-44b8-cede-eb889ed3dc41"
      },
      "execution_count": null,
      "outputs": [
        {
          "output_type": "stream",
          "name": "stdout",
          "text": [
            "RMSE: 0.8740\n",
            "RMSE: 0.8739791661231519\n"
          ]
        }
      ]
    },
    {
      "cell_type": "code",
      "source": [
        "user_id = 67  # User ID\n",
        "movie_id = 190  # Movie ID (e.g., the ID for \"Star Wars: Episode IV\")\n",
        "\n",
        "# Predict the rating\n",
        "prediction = model.predict(user_id, movie_id)\n",
        "print(f\"Predicted rating for user {user_id} on movie {movie_id}: {prediction.est}\")\n"
      ],
      "metadata": {
        "colab": {
          "base_uri": "https://localhost:8080/"
        },
        "id": "0dEclNX7yjHP",
        "outputId": "d143efcb-6e35-4d27-e47f-400e0e75ce5c"
      },
      "execution_count": null,
      "outputs": [
        {
          "output_type": "stream",
          "name": "stdout",
          "text": [
            "Predicted rating for user 67 on movie 190: 4.165367486035058\n"
          ]
        }
      ]
    },
    {
      "cell_type": "code",
      "source": [
        "from surprise import Dataset, Reader, SVD, accuracy\n",
        "from surprise.model_selection import train_test_split\n",
        "\n",
        "# Prepare the data for Surprise\n",
        "reader = Reader(rating_scale=(1, 5))\n",
        "data = Dataset.load_from_df(merged_data[['userId', 'movieId', 'rating']], reader)\n",
        "\n",
        "# Split the data into training and test sets\n",
        "trainset, testset = train_test_split(data, test_size=0.2)\n",
        "\n",
        "# Train a basic SVD model\n",
        "model = SVD()\n",
        "model.fit(trainset)\n",
        "\n",
        "# Predict the ratings on the test set\n",
        "predictions = model.test(testset)\n",
        "\n",
        "# Compute RMSE\n",
        "rmse = accuracy.rmse(predictions)\n",
        "print(f\"RMSE: {rmse}\")\n"
      ],
      "metadata": {
        "colab": {
          "base_uri": "https://localhost:8080/"
        },
        "id": "yCZ2ceAZyygA",
        "outputId": "68c66028-3a77-4b10-f8fa-949ed197936b"
      },
      "execution_count": null,
      "outputs": [
        {
          "output_type": "stream",
          "name": "stdout",
          "text": [
            "RMSE: 0.8746\n",
            "RMSE: 0.8746040195373288\n"
          ]
        }
      ]
    },
    {
      "cell_type": "code",
      "source": [
        "# Create a mapping of movieId to title\n",
        "movie_indices = pd.Series(movies.index, index=movies['title']).to_dict()\n",
        "\n",
        "# Define a function to get recommendations based on movie title\n",
        "def content_based_recommender(title, cosine_sim=cosine_sim, movie_indices=movie_indices):\n",
        "    # Get the index of the movie that matches the title\n",
        "    idx = movie_indices.get(title)  # Use .get to avoid KeyError\n",
        "\n",
        "    if idx is None:\n",
        "        return \"Movie not found in dataset\"\n",
        "\n",
        "    # Get the pairwise similarity scores for that movie\n",
        "    sim_scores = list(enumerate(cosine_sim[idx]))\n",
        "\n",
        "    # Sort the movies based on similarity scores\n",
        "    sim_scores = sorted(sim_scores, key=lambda x: x[1], reverse=True)\n",
        "\n",
        "    # Get the top 10 most similar movies\n",
        "    sim_scores = sim_scores[1:11]\n",
        "\n",
        "    # Get the movie indices\n",
        "    movie_indices_local = [i[0] for i in sim_scores]  # Renamed to avoid shadowing\n",
        "\n",
        "    # Return the top 10 most similar movies\n",
        "    return movies['title'].iloc[movie_indices_local]  # Use local variable here\n",
        "\n",
        "# Test the content-based recommender\n",
        "print(content_based_recommender(\"Star Wars: Episode IV - A New Hope (1977)\"))\n"
      ],
      "metadata": {
        "colab": {
          "base_uri": "https://localhost:8080/"
        },
        "id": "TpXVu_VN0cdR",
        "outputId": "04481e6b-5dcf-4ef5-b45b-3a061f23b3e2"
      },
      "execution_count": null,
      "outputs": [
        {
          "output_type": "stream",
          "name": "stdout",
          "text": [
            "2036                                         Tron (1982)\n",
            "2559    Star Wars: Episode I - The Phantom Menace (1999)\n",
            "2104          Navigator: A Mediaeval Odyssey, The (1988)\n",
            "2899                                 Time Bandits (1981)\n",
            "1006                 20,000 Leagues Under the Sea (1954)\n",
            "1698                                     Star Kid (1997)\n",
            "2024                                 Return to Oz (1985)\n",
            "1952                                         Dune (1984)\n",
            "1985                     Honey, I Shrunk the Kids (1989)\n",
            "171                                   Judge Dredd (1995)\n",
            "Name: title, dtype: object\n"
          ]
        }
      ]
    },
    {
      "cell_type": "code",
      "source": [
        "# Function to get hybrid recommendations\n",
        "def hybrid_recommender(user_id, movie_id, top_n=10):\n",
        "    # Get collaborative recommendations (from SVD model)\n",
        "    collab_pred = model.predict(user_id, movie_id)\n",
        "\n",
        "    # Get content-based recommendations\n",
        "    movie_title = movies[movies['movieId'] == movie_id]['title'].values[0]\n",
        "    content_recs = content_based_recommender(movie_title)\n",
        "\n",
        "    # Combine the recommendations\n",
        "    print(f\"Collaborative prediction: {collab_pred.est}\")\n",
        "    print(f\"Top 10 Content-Based Recommendations:\")\n",
        "    for movie in content_recs:\n",
        "        print(movie)\n",
        "\n",
        "# Example usage: hybrid recommender for user 1 and movie 100\n",
        "hybrid_recommender(1, 100)\n"
      ],
      "metadata": {
        "colab": {
          "base_uri": "https://localhost:8080/"
        },
        "id": "w1AHuylq0mGp",
        "outputId": "0984e6ca-3628-4ff9-8cef-27134d2747f4"
      },
      "execution_count": null,
      "outputs": [
        {
          "output_type": "stream",
          "name": "stdout",
          "text": [
            "Collaborative prediction: 3.5734606487564147\n",
            "Top 10 Content-Based Recommendations:\n",
            "Eye for an Eye (1996)\n",
            "Juror, The (1996)\n",
            "Mary Reilly (1996)\n",
            "City Hall (1996)\n",
            "Taxi Driver (1976)\n",
            "Babysitter, The (1995)\n",
            "Disclosure (1994)\n",
            "Death and the Maiden (1994)\n",
            "Dolores Claiborne (1994)\n",
            "Murder in the First (1995)\n"
          ]
        }
      ]
    }
  ]
}